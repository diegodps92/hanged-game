{
 "cells": [
  {
   "cell_type": "code",
   "execution_count": 2,
   "id": "cd604128",
   "metadata": {},
   "outputs": [
    {
     "name": "stdout",
     "output_type": "stream",
     "text": [
      "What is your name? Diego\n",
      "Good Luck!  Diego\n",
      "our random word laptop\n",
      "*********** WORD GUESSING GAME ***********\n",
      "_\n",
      "_\n",
      "_\n",
      "_\n",
      "_\n",
      "_\n",
      "Make a guess: telivision\n",
      "Wrong. You have 9 more chances\n",
      "Correct guess: l\n",
      "_\n",
      "_\n",
      "Correct guess: t\n",
      "Correct guess: o\n",
      "_\n",
      "Make a guess: a\n",
      "Correct guess: l\n",
      "Correct guess: a\n",
      "_\n",
      "Correct guess: t\n",
      "Correct guess: o\n",
      "_\n",
      "Make a guess: p\n",
      "Correct guess: l\n",
      "Correct guess: a\n",
      "Correct guess: p\n",
      "Correct guess: t\n",
      "Correct guess: o\n",
      "Correct guess: p\n",
      "Correct.\n",
      "Word : laptop\n"
     ]
    }
   ],
   "source": [
    "import random as rd #import random library\n",
    "\n",
    "name = input(prompt = \"What is the name of the contester? \")\n",
    "# The first question is about his name to personalize the experience\n",
    " \n",
    "print(\"Good Luck! \", name)\n",
    "#you can modify the words here.\n",
    "wordstoguess = ['insurance', 'lion', 'computer', 'snake',\n",
    "'laptop', 'river', 'photo', 'python', 'facebook',\n",
    "'madness', 'game']\n",
    "\n",
    "random_word = rd.choice(wordstoguess)\n",
    "#give the instructions\n",
    "print(\"\"\" Don't tell the randome world to the gamer\n",
    "      The gamer is going to have only 10 chances to guess\n",
    "      The random word is: \"\"\", random_word)\n",
    "\n",
    "print('*********** HANGMAN GAME ***********')\n",
    "#set up the variables that is going to count how many guesses has the participant\n",
    "user_guesses = ''\n",
    "chances = 10\n",
    "\n",
    "while chances > 0:\n",
    "    wrong_guesses = 0\n",
    "    for character in random_word:\n",
    "        if character in user_guesses:\n",
    "            print(f\"Correct guess: {character}\")\n",
    "        else:\n",
    "            wrong_guesses += 1\n",
    "            print('_')\n",
    "\n",
    "    if wrong_guesses == 0:\n",
    "        print(\"Correct.\")\n",
    "        print(f\"Word : {random_word}\")\n",
    "        break\n",
    "    guess = input('Make a guess: ')\n",
    "    user_guesses += guess\n",
    "\n",
    "    if guess not in random_word:\n",
    "        chances -= 1\n",
    "        print(f\"Wrong. You have {chances} more chances\")\n",
    "\n",
    "        if chances == 0:\n",
    "            print('game over')\n"
   ]
  },
  {
   "cell_type": "code",
   "execution_count": null,
   "id": "eb26fb7f",
   "metadata": {},
   "outputs": [],
   "source": []
  }
 ],
 "metadata": {
  "kernelspec": {
   "display_name": "Python 3 (ipykernel)",
   "language": "python",
   "name": "python3"
  },
  "language_info": {
   "codemirror_mode": {
    "name": "ipython",
    "version": 3
   },
   "file_extension": ".py",
   "mimetype": "text/x-python",
   "name": "python",
   "nbconvert_exporter": "python",
   "pygments_lexer": "ipython3",
   "version": "3.8.8"
  },
  "toc": {
   "base_numbering": 1,
   "nav_menu": {},
   "number_sections": true,
   "sideBar": true,
   "skip_h1_title": false,
   "title_cell": "Table of Contents",
   "title_sidebar": "Contents",
   "toc_cell": false,
   "toc_position": {},
   "toc_section_display": true,
   "toc_window_display": false
  },
  "varInspector": {
   "cols": {
    "lenName": 16,
    "lenType": 16,
    "lenVar": 40
   },
   "kernels_config": {
    "python": {
     "delete_cmd_postfix": "",
     "delete_cmd_prefix": "del ",
     "library": "var_list.py",
     "varRefreshCmd": "print(var_dic_list())"
    },
    "r": {
     "delete_cmd_postfix": ") ",
     "delete_cmd_prefix": "rm(",
     "library": "var_list.r",
     "varRefreshCmd": "cat(var_dic_list()) "
    }
   },
   "types_to_exclude": [
    "module",
    "function",
    "builtin_function_or_method",
    "instance",
    "_Feature"
   ],
   "window_display": false
  }
 },
 "nbformat": 4,
 "nbformat_minor": 5
}
